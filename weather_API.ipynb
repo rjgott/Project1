{
 "cells": [
  {
   "cell_type": "code",
   "execution_count": 16,
   "metadata": {},
   "outputs": [],
   "source": [
    "# bin/Python3.10.7      ###WORKING IDEA - NOT FUNCTIONAL YET!!!\n",
    "\n",
    "#Use National Weather Service (NWS) API Web Service to retrieve forecast information for given latitude, longitude\n",
    "\n",
    "#NWS API Web Service documentation https://www.weather.gov/documentation/services-web-api\n",
    "\n",
    "import urllib.request, urllib.parse, urllib.error\n",
    "import json\n",
    "\n",
    "serviceurl = 'https://api.weather.gov/points/{latitude},{longitude}/'\n",
    "\n",
    "while True:\n",
    "    latitude = input('Enter Decimal Degrees latitude: ')\n",
    "    longitude = input('Enter Decimal Degrees longitude: ')\n",
    "    if len(latitude) & len(longitude) < 1: break\n",
    "\n",
    "\n",
    "    url = serviceurl + urllib.parse.urlencode(\n",
    "        {'coordinates': latitude}, {'coordinates': longitude})\n",
    "\n",
    "    print('Retrieving', url)\n",
    "    uh = urllib.request.urlopen(urllib.request.Request(url, headers={'User-Agent': 'Mozilla/5.0'}))\n",
    "    data = uh.read().decode()\n",
    "    print('Retrieved', len(data), \"characters\")\n",
    "\n",
    "    try:\n",
    "        js = json.loads(data)\n",
    "    except:\n",
    "        js = None\n",
    "    \n",
    "    print(data)"
   ]
  }
 ],
 "metadata": {
  "kernelspec": {
   "display_name": "Python 3.10.7 64-bit",
   "language": "python",
   "name": "python3"
  },
  "language_info": {
   "codemirror_mode": {
    "name": "ipython",
    "version": 3
   },
   "file_extension": ".py",
   "mimetype": "text/x-python",
   "name": "python",
   "nbconvert_exporter": "python",
   "pygments_lexer": "ipython3",
   "version": "3.10.7"
  },
  "orig_nbformat": 4,
  "vscode": {
   "interpreter": {
    "hash": "aee8b7b246df8f9039afb4144a1f6fd8d2ca17a180786b69acc140d282b71a49"
   }
  }
 },
 "nbformat": 4,
 "nbformat_minor": 2
}
